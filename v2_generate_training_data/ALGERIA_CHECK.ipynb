{
 "cells": [
  {
   "cell_type": "code",
   "execution_count": 3,
   "id": "72645b7b-dfee-4a2d-8dfa-329279c2c260",
   "metadata": {},
   "outputs": [
    {
     "name": "stdout",
     "output_type": "stream",
     "text": [
      "⚠️ Error processing 365_GENOTYPE 3_ID66_info.csv: ALGERIA/365_GENOTYPE 3_ID66_blade.txt not found.\n",
      "⚠️ Error processing 324_GENOTYPE 1_ID25_info.csv: [Errno 2] No such file or directory: '/Users/chitwoo9/Desktop/ALGERIA/324_GENOTYPE 1_ID25.jpg'\n",
      "⚠️ Error processing 304_AHMEUR BOU AHMEUR_ID04_info.csv: [Errno 2] No such file or directory: '/Users/chitwoo9/Desktop/ALGERIA/304_AHMEUR BOU AHMEUR_ID04.jpg'\n",
      "⚠️ Error processing 307_AHMEUR BOU AHMEUR_ID08_info.csv: [Errno 2] No such file or directory: '/Users/chitwoo9/Desktop/ALGERIA/307_AHMEUR BOU AHMEUR_ID08.jpg'\n",
      "⚠️ Error processing 331_GENOTYPE 1_ID32_info.csv: [Errno 2] No such file or directory: '/Users/chitwoo9/Desktop/ALGERIA/331_BABARI_ID32.jpg'\n",
      "⚠️ Error processing 323_GENOTYPE 1_ID24_info.csv: [Errno 2] No such file or directory: '/Users/chitwoo9/Desktop/ALGERIA/323_GENOTYPE 1 _ID24.jpg'\n",
      "⚠️ Error processing 322_GENOTYPE 1_ID23_info.csv: [Errno 2] No such file or directory: '/Users/chitwoo9/Desktop/ALGERIA/322_GENOTYPE 1_ID23_info'\n",
      "⚠️ Error processing 347_GENOTYPE 3_ID48_info.csv: [Errno 2] No such file or directory: '/Users/chitwoo9/Desktop/ALGERIA/347_GENOTYPE 2_ID48.jpg'\n",
      "✅ All visualizations saved to: ALGERIA_CHECK\n"
     ]
    }
   ],
   "source": [
    "import os\n",
    "import numpy as np\n",
    "import pandas as pd\n",
    "import matplotlib.pyplot as plt\n",
    "from matplotlib.patches import Polygon\n",
    "from PIL import Image\n",
    "\n",
    "# === Configurable parameters ===\n",
    "input_folder = \"ALGERIA\"\n",
    "output_folder = \"ALGERIA_CHECK\"\n",
    "blade_color = \"orange\"\n",
    "vein_color = \"magenta\"\n",
    "alpha = 0.7\n",
    "output_dpi = 100  # resolution of saved figures\n",
    "\n",
    "# Create output folder if it doesn't exist\n",
    "os.makedirs(output_folder, exist_ok=True)\n",
    "\n",
    "# Helper to read polygon coords\n",
    "def read_coords(path):\n",
    "    return np.loadtxt(path)\n",
    "\n",
    "# Get all info CSV files\n",
    "info_files = [f for f in os.listdir(input_folder) if f.endswith(\"_info.csv\")]\n",
    "\n",
    "for info_file in info_files:\n",
    "    try:\n",
    "        info_path = os.path.join(input_folder, info_file)\n",
    "        base = info_file.replace(\"_info.csv\", \"\")\n",
    "\n",
    "        # Read metadata\n",
    "        df = pd.read_csv(info_path)\n",
    "        image_filename = df.loc[df[\"factor\"] == \"image\", \"value\"].values[0]\n",
    "        tracer_name = df.loc[df[\"factor\"] == \"source\", \"value\"].values[0]\n",
    "        image_path = os.path.join(input_folder, image_filename)\n",
    "\n",
    "        # Paths to trace files\n",
    "        blade_path = os.path.join(input_folder, f\"{base}_blade.txt\")\n",
    "        veins_path = os.path.join(input_folder, f\"{base}_veins.txt\")\n",
    "\n",
    "        # Load image and outlines\n",
    "        image = np.array(Image.open(image_path).convert(\"RGB\"))\n",
    "        blade_coords = read_coords(blade_path)\n",
    "        veins_coords = read_coords(veins_path)\n",
    "\n",
    "        height, width = image.shape[:2]\n",
    "        aspect_ratio = width / height\n",
    "        fig_height = 6  # in inches\n",
    "        fig_width = fig_height * aspect_ratio\n",
    "\n",
    "        # Plot\n",
    "        fig, ax = plt.subplots(figsize=(fig_width, fig_height))\n",
    "        ax.imshow(image)\n",
    "        ax.add_patch(Polygon(blade_coords, closed=True, color=blade_color, alpha=alpha))\n",
    "        ax.add_patch(Polygon(veins_coords, closed=True, color=vein_color, alpha=alpha))\n",
    "        ax.axis(\"off\")\n",
    "\n",
    "        # Add tracer note below image as a full-width label\n",
    "        plt.title(f\"Data collected by: {tracer_name}\", loc=\"left\", fontsize=10)\n",
    "\n",
    "        # Save output\n",
    "        out_path = os.path.join(output_folder, f\"{base}_check.png\")\n",
    "        plt.savefig(out_path, bbox_inches=\"tight\", pad_inches=0.1, dpi=output_dpi)\n",
    "        plt.close()\n",
    "\n",
    "    except Exception as e:\n",
    "        print(f\"⚠️ Error processing {info_file}: {e}\")\n",
    "\n",
    "print(\"✅ All visualizations saved to:\", output_folder)\n",
    "\n"
   ]
  },
  {
   "cell_type": "code",
   "execution_count": null,
   "id": "6db6d30a-e885-418c-b604-f0c0b4db0992",
   "metadata": {},
   "outputs": [],
   "source": []
  }
 ],
 "metadata": {
  "kernelspec": {
   "display_name": "Python 3 (ipykernel)",
   "language": "python",
   "name": "python3"
  },
  "language_info": {
   "codemirror_mode": {
    "name": "ipython",
    "version": 3
   },
   "file_extension": ".py",
   "mimetype": "text/x-python",
   "name": "python",
   "nbconvert_exporter": "python",
   "pygments_lexer": "ipython3",
   "version": "3.12.4"
  }
 },
 "nbformat": 4,
 "nbformat_minor": 5
}
