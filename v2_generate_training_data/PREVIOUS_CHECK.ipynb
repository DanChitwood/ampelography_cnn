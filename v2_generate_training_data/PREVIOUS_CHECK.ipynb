{
 "cells": [
  {
   "cell_type": "code",
   "execution_count": 2,
   "id": "259d67ed-178d-443e-a6b1-e3eefd0aa1e9",
   "metadata": {},
   "outputs": [
    {
     "name": "stderr",
     "output_type": "stream",
     "text": [
      "Processing MSU dataset:  20%|████                | 4/20 [00:20<01:25,  5.33s/it]"
     ]
    },
    {
     "name": "stdout",
     "output_type": "stream",
     "text": [
      "❌ No image file found for base name: user9_row_RSB_7_vine_4_cultivar_V.-acertifolia_rep_1_raw_image in PREVIOUS_DATA/msu_images\n",
      "❌ No image file found for base name: user7_row_RSB_6_vine_4_cultivar_GRN-3_rep_2_raw_image.jpg in PREVIOUS_DATA/msu_images\n"
     ]
    },
    {
     "name": "stderr",
     "output_type": "stream",
     "text": [
      "Processing MSU dataset:  35%|███████             | 7/20 [00:24<00:36,  2.81s/it]"
     ]
    },
    {
     "name": "stdout",
     "output_type": "stream",
     "text": [
      "❌ No image file found for base name: user27_row_RSB_1_vine_4_cultivar_AxR1_rep_1_raw_image.jpg in PREVIOUS_DATA/msu_images\n"
     ]
    },
    {
     "name": "stderr",
     "output_type": "stream",
     "text": [
      "Processing MSU dataset:  50%|█████████▌         | 10/20 [00:37<00:40,  4.00s/it]"
     ]
    },
    {
     "name": "stdout",
     "output_type": "stream",
     "text": [
      "❌ No image file found for base name: user27_row_RSB_1_vine_4_cultivar_AxR1_rep_2_raw_image.jpg in PREVIOUS_DATA/msu_images\n"
     ]
    },
    {
     "name": "stderr",
     "output_type": "stream",
     "text": [
      "Processing MSU dataset:  60%|███████████▍       | 12/20 [00:42<00:27,  3.39s/it]"
     ]
    },
    {
     "name": "stdout",
     "output_type": "stream",
     "text": [
      "❌ No image file found for base name: user9_row_18_vine_1_cultivar_Cinsault_rep_2_raw_image.jpg in PREVIOUS_DATA/msu_images\n"
     ]
    },
    {
     "name": "stderr",
     "output_type": "stream",
     "text": [
      "Processing MSU dataset:  70%|█████████████▎     | 14/20 [00:50<00:21,  3.58s/it]"
     ]
    },
    {
     "name": "stdout",
     "output_type": "stream",
     "text": [
      "❌ No image file found for base name: user9_row_RSB_7_vine_4_cultivar_V.-acertifolia_rep_2_raw_image in PREVIOUS_DATA/msu_images\n"
     ]
    },
    {
     "name": "stderr",
     "output_type": "stream",
     "text": [
      "Processing MSU dataset:  80%|███████████████▏   | 16/20 [01:00<00:16,  4.18s/it]"
     ]
    },
    {
     "name": "stdout",
     "output_type": "stream",
     "text": [
      "❌ No image file found for base name: user7_row_RSB_6_vine_4_cultivar_GRN-3_rep_1_raw_image.jpg in PREVIOUS_DATA/msu_images\n"
     ]
    },
    {
     "name": "stderr",
     "output_type": "stream",
     "text": [
      "Processing MSU dataset:  90%|█████████████████  | 18/20 [01:08<00:08,  4.01s/it]"
     ]
    },
    {
     "name": "stdout",
     "output_type": "stream",
     "text": [
      "❌ No image file found for base name: user9_row_18_vine_1_cultivar_Cinsault_rep_1_raw_image.jpg in PREVIOUS_DATA/msu_images\n"
     ]
    },
    {
     "name": "stderr",
     "output_type": "stream",
     "text": [
      "Processing MSU dataset: 100%|███████████████████| 20/20 [01:12<00:00,  3.62s/it]\n",
      "Processing ORIGINAL dataset: 100%|██████████████| 81/81 [07:31<00:00,  5.58s/it]\n",
      "Processing UCD dataset: 100%|███████████████████| 51/51 [03:43<00:00,  4.39s/it]"
     ]
    },
    {
     "name": "stdout",
     "output_type": "stream",
     "text": [
      "✅ All datasets processed and saved to: PREVIOUS_CHECK\n"
     ]
    },
    {
     "name": "stderr",
     "output_type": "stream",
     "text": [
      "\n"
     ]
    }
   ],
   "source": [
    "import os\n",
    "import numpy as np\n",
    "import pandas as pd\n",
    "from PIL import Image\n",
    "import matplotlib.pyplot as plt\n",
    "from skimage import draw\n",
    "from tqdm import tqdm\n",
    "import matplotlib.colors as mcolors\n",
    "#from shapely.geometry import Polygon\n",
    "#import rasterio\n",
    "#from rasterio.features import rasterize\n",
    "#from shapely.errors import TopologicalError\n",
    "\n",
    "\n",
    "# Settings\n",
    "input_root = \"PREVIOUS_DATA\"\n",
    "output_folder = \"PREVIOUS_CHECK\"\n",
    "blade_color = \"orange\"\n",
    "vein_color = \"magenta\"\n",
    "overlay_alpha = 0.7\n",
    "save_dpi = 150\n",
    "\n",
    "# Ensure output directory exists\n",
    "os.makedirs(output_folder, exist_ok=True)\n",
    "\n",
    "# Dataset identifiers and folder suffixes\n",
    "datasets = {\n",
    "    \"MSU\": (\"msu_data\", \"msu_images\"),\n",
    "    \"ORIGINAL\": (\"original_data\", \"original_images\"),\n",
    "    \"UCD\": (\"ucd_data\", \"ucd_images\")\n",
    "}\n",
    "\n",
    "def read_coords(filepath):\n",
    "    return np.loadtxt(filepath, delimiter=None)\n",
    "\n",
    "def rasterize_polygon(coords, shape):\n",
    "    rr, cc = draw.polygon(coords[:,1], coords[:,0], shape=shape)\n",
    "    return rr, cc\n",
    "\n",
    "def resolve_image_path(image_folder, image_value):\n",
    "    name, ext = os.path.splitext(image_value)\n",
    "    candidates = []\n",
    "\n",
    "    if ext:  # Already has extension\n",
    "        candidates.append(image_value)\n",
    "    else:\n",
    "        candidates.extend([f\"{image_value}.jpg\", f\"{image_value}.jpeg\"])\n",
    "\n",
    "    all_files = os.listdir(image_folder)\n",
    "    for candidate in candidates:\n",
    "        for file in all_files:\n",
    "            if file.lower() == candidate.lower():\n",
    "                return os.path.join(image_folder, file)\n",
    "\n",
    "    raise FileNotFoundError(f\"No image file found for base name: {image_value} in {image_folder}\")\n",
    "\n",
    "\n",
    "# Process all datasets\n",
    "for prefix, (data_folder, image_folder) in datasets.items():\n",
    "    data_path = os.path.join(input_root, data_folder)\n",
    "    image_path = os.path.join(input_root, image_folder)\n",
    "\n",
    "    info_files = [f for f in os.listdir(data_path) if f.endswith(\"_info.csv\")]\n",
    "\n",
    "    for info_file in tqdm(info_files, desc=f\"Processing {prefix} dataset\"):\n",
    "        base_name = info_file.replace(\"_info.csv\", \"\")\n",
    "        info_path = os.path.join(data_path, info_file)\n",
    "\n",
    "        # 👇 Use the correct blade file suffix based on dataset\n",
    "        blade_suffix = \"_blades.txt\" if prefix == \"UCD\" else \"_blade.txt\"\n",
    "        blade_path = os.path.join(data_path, base_name + blade_suffix)\n",
    "        veins_path = os.path.join(data_path, base_name + \"_veins.txt\")\n",
    "\n",
    "        # Load info CSV\n",
    "        df_info = pd.read_csv(info_path)\n",
    "        image_value = df_info.loc[df_info[\"factor\"] == \"image\", \"value\"].values[0]\n",
    "        try:\n",
    "            image_full_path = resolve_image_path(image_path, image_value)\n",
    "        except FileNotFoundError as e:\n",
    "            print(f\"❌ {e}\")\n",
    "            continue\n",
    "\n",
    "        try:\n",
    "            image = np.array(Image.open(image_full_path).convert(\"RGB\"))\n",
    "        except Exception as e:\n",
    "            print(f\"❌ Could not open image {image_value}: {e}\")\n",
    "            continue\n",
    "\n",
    "        fig, ax = plt.subplots()\n",
    "        ax.imshow(image)\n",
    "        ax.axis(\"off\")\n",
    "        img_shape = image.shape[:2]\n",
    "\n",
    "        # Overlay blade\n",
    "        if os.path.exists(blade_path):\n",
    "            blade_coords = read_coords(blade_path)\n",
    "            rr_b, cc_b = rasterize_polygon(blade_coords, img_shape)\n",
    "            mask_blade = np.zeros(img_shape, dtype=bool)\n",
    "            mask_blade[rr_b, cc_b] = True\n",
    "\n",
    "            overlay = np.zeros((*img_shape, 4), dtype=float)\n",
    "            overlay[..., :3] = mcolors.to_rgb(blade_color)\n",
    "            overlay[..., 3] = 0\n",
    "            overlay[mask_blade, 3] = overlay_alpha\n",
    "            ax.imshow(overlay)\n",
    "\n",
    "        # Overlay veins\n",
    "        if os.path.exists(veins_path):\n",
    "            vein_coords = read_coords(veins_path)\n",
    "            rr_v, cc_v = rasterize_polygon(vein_coords, img_shape)\n",
    "            mask_vein = np.zeros(img_shape, dtype=bool)\n",
    "            mask_vein[rr_v, cc_v] = True\n",
    "\n",
    "            overlay = np.zeros((*img_shape, 4), dtype=float)\n",
    "            overlay[..., :3] = mcolors.to_rgb(vein_color)\n",
    "            overlay[..., 3] = 0\n",
    "            overlay[mask_vein, 3] = overlay_alpha\n",
    "            ax.imshow(overlay)\n",
    "\n",
    "        # Save output\n",
    "        save_name = f\"{prefix}_{base_name}.png\"\n",
    "        save_path = os.path.join(output_folder, save_name)\n",
    "        plt.savefig(save_path, bbox_inches=\"tight\", pad_inches=0.1, dpi=save_dpi)\n",
    "        plt.close()\n",
    "\n",
    "print(\"✅ All datasets processed and saved to:\", output_folder)\n",
    "\n",
    "\n"
   ]
  },
  {
   "cell_type": "code",
   "execution_count": null,
   "id": "341edf0f-c6e1-4df2-996e-fe3422cb9998",
   "metadata": {},
   "outputs": [],
   "source": []
  }
 ],
 "metadata": {
  "kernelspec": {
   "display_name": "Python 3 (ipykernel)",
   "language": "python",
   "name": "python3"
  },
  "language_info": {
   "codemirror_mode": {
    "name": "ipython",
    "version": 3
   },
   "file_extension": ".py",
   "mimetype": "text/x-python",
   "name": "python",
   "nbconvert_exporter": "python",
   "pygments_lexer": "ipython3",
   "version": "3.12.4"
  }
 },
 "nbformat": 4,
 "nbformat_minor": 5
}
