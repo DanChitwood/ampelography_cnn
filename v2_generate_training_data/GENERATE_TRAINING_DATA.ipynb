{
 "cells": [
  {
   "cell_type": "markdown",
   "id": "8a90bac0-97d7-46a7-960f-7074cc217564",
   "metadata": {},
   "source": [
    "# CREATE BACKGROUNDS, BLADE, PLOT, CORRECT SIZES"
   ]
  },
  {
   "cell_type": "code",
   "execution_count": 1,
   "id": "95d5e208-caf4-4a30-862d-93eae1f95b2b",
   "metadata": {},
   "outputs": [
    {
     "name": "stdout",
     "output_type": "stream",
     "text": [
      "🔍 Scanning for maximum dimensions...\n"
     ]
    },
    {
     "name": "stderr",
     "output_type": "stream",
     "text": [
      "100%|█████████████████████████████████████████| 208/208 [00:16<00:00, 12.91it/s]\n"
     ]
    },
    {
     "name": "stdout",
     "output_type": "stream",
     "text": [
      "📐 Target image size (max 2048px): (2048, 1447)\n",
      "🚀 Processing and saving outputs...\n"
     ]
    },
    {
     "name": "stderr",
     "output_type": "stream",
     "text": [
      "100%|█████████████████████████████████████████| 208/208 [02:51<00:00,  1.21it/s]"
     ]
    },
    {
     "name": "stdout",
     "output_type": "stream",
     "text": [
      "✅ All files processed and saved.\n"
     ]
    },
    {
     "name": "stderr",
     "output_type": "stream",
     "text": [
      "\n"
     ]
    }
   ],
   "source": [
    "# === IMPORTS ===\n",
    "import os\n",
    "import numpy as np\n",
    "import pandas as pd\n",
    "from PIL import Image, ImageOps\n",
    "import matplotlib.pyplot as plt\n",
    "from matplotlib.patches import Polygon\n",
    "from tqdm import tqdm\n",
    "\n",
    "# === CONFIGURATION ===\n",
    "blade_color = \"orange\"\n",
    "vein_color = \"magenta\"\n",
    "overlay_alpha = 0.7\n",
    "plot_dpi = 100\n",
    "MAX_DIMENSION = 2048\n",
    "\n",
    "input_csv = \"files_to_use.csv\"\n",
    "image_extensions = [\".jpg\", \".jpeg\", \".tif\", \".tiff\"]\n",
    "\n",
    "output_dirs = {\n",
    "    \"background\": \"BACKGROUNDS\",\n",
    "    \"blade\": \"BLADE\",\n",
    "    \"veins\": \"VEINS\",\n",
    "    \"plots\": \"PLOTS\"\n",
    "}\n",
    "for d in output_dirs.values():\n",
    "    os.makedirs(d, exist_ok=True)\n",
    "\n",
    "# === HELPERS ===\n",
    "def read_coords(path):\n",
    "    return np.loadtxt(path)\n",
    "\n",
    "def resolve_image_path(image_folder, image_value):\n",
    "    name, ext = os.path.splitext(image_value)\n",
    "    candidates = [image_value] if ext else [f\"{image_value}{e}\" for e in image_extensions]\n",
    "    all_files = os.listdir(image_folder)\n",
    "    for candidate in candidates:\n",
    "        for f in all_files:\n",
    "            if f.lower() == candidate.lower():\n",
    "                return os.path.join(image_folder, f)\n",
    "    raise FileNotFoundError(f\"No image found for base name {image_value} in {image_folder}\")\n",
    "\n",
    "def rotate_to_wide(img, coords):\n",
    "    if img.width >= img.height:\n",
    "        return img, coords\n",
    "    img_rot = img.transpose(Image.Transpose.ROTATE_90)\n",
    "    coords_rot = np.copy(coords)\n",
    "    coords_rot[:, [0, 1]] = coords[:, [1, 0]]\n",
    "    coords_rot[:, 1] = img.width - coords_rot[:, 1]\n",
    "    return img_rot, coords_rot\n",
    "\n",
    "def downscale_to_max_dim(size, max_dim):\n",
    "    w, h = size\n",
    "    scale = min(max_dim / max(w, h), 1.0)\n",
    "    return int(w * scale), int(h * scale), scale\n",
    "\n",
    "def transform_coords(coords, orig_size, new_size):\n",
    "    scale = min(new_size[0] / orig_size[0], new_size[1] / orig_size[1])\n",
    "    coords_scaled = coords * scale\n",
    "    pad_x = (new_size[0] - orig_size[0] * scale) / 2\n",
    "    pad_y = (new_size[1] - orig_size[1] * scale) / 2\n",
    "    coords_trans = coords_scaled + [pad_x, pad_y]\n",
    "    return coords_trans\n",
    "\n",
    "def rescale_and_pad_image(img, target_size):\n",
    "    img = ImageOps.contain(img, target_size)\n",
    "    padded = Image.new(\"RGB\", target_size, (255, 255, 255))\n",
    "    paste_pos = ((target_size[0] - img.width) // 2, (target_size[1] - img.height) // 2)\n",
    "    padded.paste(img, paste_pos)\n",
    "    return padded\n",
    "\n",
    "# === PHASE 1: Determine Target Size ===\n",
    "df = pd.read_csv(input_csv)\n",
    "\n",
    "max_width, max_height = 0, 0\n",
    "\n",
    "print(\"🔍 Scanning for maximum dimensions...\")\n",
    "for _, row in tqdm(df.iterrows(), total=len(df)):\n",
    "    try:\n",
    "        dataset, sub, fid = row[\"dataset\"], row[\"subdataset\"], row[\"id\"]\n",
    "        if dataset == \"ALGERIA\":\n",
    "            base = os.path.join(\"ALGERIA\", f\"{fid}_info.csv\")\n",
    "            meta = pd.read_csv(base)\n",
    "            imgval = meta.loc[meta[\"factor\"] == \"image\", \"value\"].values[0]\n",
    "            imgpath = resolve_image_path(\"ALGERIA\", imgval)\n",
    "        else:\n",
    "            base = os.path.join(\"PREVIOUS_DATA\", f\"{sub.lower()}_data\", f\"{fid}_info.csv\")\n",
    "            meta = pd.read_csv(base)\n",
    "            imgval = meta.loc[meta[\"factor\"] == \"image\", \"value\"].values[0]\n",
    "            imgpath = resolve_image_path(os.path.join(\"PREVIOUS_DATA\", f\"{sub.lower()}_images\"), imgval)\n",
    "\n",
    "        im = Image.open(imgpath).convert(\"RGB\")\n",
    "        if im.width < im.height:\n",
    "            im = im.transpose(Image.Transpose.ROTATE_90)\n",
    "\n",
    "        max_width = max(max_width, im.width)\n",
    "        max_height = max(max_height, im.height)\n",
    "\n",
    "    except Exception as e:\n",
    "        print(f\"⚠️ Skipping {fid}: {e}\")\n",
    "\n",
    "target_width, target_height, _ = downscale_to_max_dim((max_width, max_height), MAX_DIMENSION)\n",
    "target_size = (target_width, target_height)\n",
    "print(f\"📐 Target image size (max {MAX_DIMENSION}px): {target_size}\")\n",
    "\n",
    "# === PHASE 2: Generate and Save ===\n",
    "print(\"🚀 Processing and saving outputs...\")\n",
    "name_counter = {}\n",
    "\n",
    "for _, row in tqdm(df.iterrows(), total=len(df)):\n",
    "    try:\n",
    "        dataset, sub, fid, name = row[\"dataset\"], row[\"subdataset\"], row[\"id\"], row[\"name\"]\n",
    "        name_base = name.strip()\n",
    "        count = name_counter.get(name_base, 0) + 1\n",
    "        name_counter[name_base] = count\n",
    "        outname = f\"{name_base}_{count}\" if count > 1 else name_base\n",
    "\n",
    "        if dataset == \"ALGERIA\":\n",
    "            base_dir = \"ALGERIA\"\n",
    "            img_info = pd.read_csv(os.path.join(base_dir, f\"{fid}_info.csv\"))\n",
    "            imgval = img_info.loc[img_info[\"factor\"] == \"image\", \"value\"].values[0]\n",
    "            imgpath = resolve_image_path(base_dir, imgval)\n",
    "            blade_path = os.path.join(base_dir, f\"{fid}_blade.txt\")\n",
    "            vein_path = os.path.join(base_dir, f\"{fid}_veins.txt\")\n",
    "        else:\n",
    "            base_d = os.path.join(\"PREVIOUS_DATA\", f\"{sub.lower()}_data\")\n",
    "            img_d = os.path.join(\"PREVIOUS_DATA\", f\"{sub.lower()}_images\")\n",
    "            img_info = pd.read_csv(os.path.join(base_d, f\"{fid}_info.csv\"))\n",
    "            imgval = img_info.loc[img_info[\"factor\"] == \"image\", \"value\"].values[0]\n",
    "            imgpath = resolve_image_path(img_d, imgval)\n",
    "            blade_suffix = \"_blades.txt\" if sub == \"UCD\" else \"_blade.txt\"\n",
    "            blade_path = os.path.join(base_d, f\"{fid}{blade_suffix}\")\n",
    "            vein_path = os.path.join(base_d, f\"{fid}_veins.txt\")\n",
    "\n",
    "        if not os.path.exists(blade_path) or not os.path.exists(vein_path):\n",
    "            continue\n",
    "\n",
    "        img_orig = Image.open(imgpath).convert(\"RGB\")\n",
    "        blade = read_coords(blade_path)\n",
    "        vein = read_coords(vein_path)\n",
    "\n",
    "        # ✅ Rotate both using the ORIGINAL image\n",
    "        img_rot, blade_rot = rotate_to_wide(img_orig, blade)\n",
    "        _, vein_rot = rotate_to_wide(img_orig, vein)\n",
    "\n",
    "        # ✅ Rescale and pad background image\n",
    "        img_trans = rescale_and_pad_image(img_rot, target_size)\n",
    "\n",
    "        # ✅ Apply same transformation to coordinates\n",
    "        blade_trans = transform_coords(blade_rot, img_rot.size, target_size)\n",
    "        vein_trans = transform_coords(vein_rot, img_rot.size, target_size)\n",
    "\n",
    "        # === SAVE FILES ===\n",
    "        img_trans.save(os.path.join(output_dirs[\"background\"], outname + \".png\"))\n",
    "        np.savetxt(os.path.join(output_dirs[\"blade\"], outname + \"_blade.txt\"), blade_trans, fmt=\"%.2f\")\n",
    "        np.savetxt(os.path.join(output_dirs[\"veins\"], outname + \"_veins.txt\"), vein_trans, fmt=\"%.2f\")\n",
    "\n",
    "        fig, ax = plt.subplots()\n",
    "        ax.imshow(img_trans)\n",
    "        ax.add_patch(Polygon(blade_trans, closed=True, color=blade_color, alpha=overlay_alpha))\n",
    "        ax.add_patch(Polygon(vein_trans, closed=True, color=vein_color, alpha=overlay_alpha))\n",
    "        ax.axis(\"off\")\n",
    "        fig.savefig(os.path.join(output_dirs[\"plots\"], outname + \".png\"), dpi=plot_dpi, bbox_inches=\"tight\", pad_inches=0.1)\n",
    "        plt.close()\n",
    "\n",
    "    except Exception as e:\n",
    "        print(f\"⚠️ Skipping {row['id']}: {e}\")\n",
    "\n",
    "print(\"✅ All files processed and saved.\")\n"
   ]
  },
  {
   "cell_type": "markdown",
   "id": "6c41a85a-568f-4186-9324-e732eda8e866",
   "metadata": {},
   "source": [
    "# GENERATE MASKS"
   ]
  },
  {
   "cell_type": "code",
   "execution_count": 1,
   "id": "e2d991d7-993b-4c66-bb75-8607f0b5f893",
   "metadata": {},
   "outputs": [
    {
     "name": "stderr",
     "output_type": "stream",
     "text": [
      "100%|█████████████████████████████████████████| 208/208 [00:05<00:00, 39.75it/s]"
     ]
    },
    {
     "name": "stdout",
     "output_type": "stream",
     "text": [
      "✅ All masks created and saved to MASKS/\n"
     ]
    },
    {
     "name": "stderr",
     "output_type": "stream",
     "text": [
      "\n"
     ]
    }
   ],
   "source": [
    "import os\n",
    "import numpy as np\n",
    "from PIL import Image, ImageDraw\n",
    "from tqdm import tqdm\n",
    "\n",
    "# === CONFIGURATION ===\n",
    "background_dir = \"BACKGROUNDS\"\n",
    "blade_dir = \"BLADE\"\n",
    "veins_dir = \"VEINS\"\n",
    "mask_dir = \"MASKS\"\n",
    "os.makedirs(mask_dir, exist_ok=True)\n",
    "\n",
    "# === GET IMAGE NAMES ===\n",
    "image_files = [f for f in os.listdir(background_dir) if f.lower().endswith(\".png\")]\n",
    "\n",
    "# === PROCESS EACH IMAGE ===\n",
    "for fname in tqdm(image_files):\n",
    "    name = os.path.splitext(fname)[0]\n",
    "    background_path = os.path.join(background_dir, fname)\n",
    "    blade_path = os.path.join(blade_dir, f\"{name}_blade.txt\")\n",
    "    vein_path = os.path.join(veins_dir, f\"{name}_veins.txt\")\n",
    "    mask_path = os.path.join(mask_dir, f\"{name}.png\")\n",
    "\n",
    "    # Skip if already exists\n",
    "    if os.path.exists(mask_path):\n",
    "        continue\n",
    "\n",
    "    # Load image to get size\n",
    "    bg_img = Image.open(background_path)\n",
    "    w, h = bg_img.size\n",
    "\n",
    "    # Create blank mask (uint8): background = 0\n",
    "    mask = Image.new(\"L\", (w, h), 0)\n",
    "    draw = ImageDraw.Draw(mask)\n",
    "\n",
    "    # Draw blade: label = 1\n",
    "    if os.path.exists(blade_path):\n",
    "        blade_coords = np.loadtxt(blade_path)\n",
    "        blade_coords_tuple = [tuple(pt) for pt in blade_coords]\n",
    "        draw.polygon(blade_coords_tuple, fill=1)\n",
    "\n",
    "    # Draw veins: label = 2 (overwrite blade if overlapping)\n",
    "    if os.path.exists(vein_path):\n",
    "        vein_coords = np.loadtxt(vein_path)\n",
    "        vein_coords_tuple = [tuple(pt) for pt in vein_coords]\n",
    "        draw.polygon(vein_coords_tuple, fill=2)\n",
    "\n",
    "    # Save mask as image\n",
    "    mask.save(mask_path)\n",
    "\n",
    "print(\"✅ All masks created and saved to MASKS/\")\n"
   ]
  },
  {
   "cell_type": "code",
   "execution_count": null,
   "id": "719ec4b5-ca19-4f75-9146-b218c99324de",
   "metadata": {},
   "outputs": [],
   "source": []
  }
 ],
 "metadata": {
  "kernelspec": {
   "display_name": "Python 3 (ipykernel)",
   "language": "python",
   "name": "python3"
  },
  "language_info": {
   "codemirror_mode": {
    "name": "ipython",
    "version": 3
   },
   "file_extension": ".py",
   "mimetype": "text/x-python",
   "name": "python",
   "nbconvert_exporter": "python",
   "pygments_lexer": "ipython3",
   "version": "3.12.4"
  }
 },
 "nbformat": 4,
 "nbformat_minor": 5
}
